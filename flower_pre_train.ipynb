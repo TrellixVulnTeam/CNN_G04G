{
 "cells": [
  {
   "cell_type": "code",
   "execution_count": null,
   "metadata": {
    "collapsed": true
   },
   "outputs": [],
   "source": [
    "import utils\n",
    "import flower_photos_data\n",
    "import vgg16\n",
    "import tensorflow as tf\n",
    "import numpy as np\n",
    "from os.path import isfile, isdir\n",
    "import os"
   ]
  },
  {
   "cell_type": "code",
   "execution_count": null,
   "metadata": {
    "collapsed": true
   },
   "outputs": [],
   "source": [
    "label_dict ={0: 'daisy', 1: 'dandelion', 2: 'roses', 3: 'sunflowers', 4: 'tulips'}"
   ]
  },
  {
   "cell_type": "code",
   "execution_count": null,
   "metadata": {
    "collapsed": false
   },
   "outputs": [],
   "source": [
    "def pre_train_data():\n",
    "    if not isdir( 'data/flower_photos'):\n",
    "        if not isfile('data/flower_photos.tar.gz'):\n",
    "            with utils.DLProgress(unit='B', unit_scale=True, miniters=1, desc='Flowers Dataset') as pbar:\n",
    "                urlretrieve(download_url,zip_file,pbar.hook)\n",
    "        with tarfile.open('data/flower_photos.tar.gz') as tar:\n",
    "           tar.extractall(path='data/')\n",
    "  \n",
    "    batch_size = 10\n",
    "    codes = []\n",
    "    labels= []\n",
    "    \n",
    "    input_ = tf.placeholder(dtype=tf.float32, shape=[None, 224, 224, 3] )\n",
    "    vgg = vgg16.Vgg16()\n",
    "    \n",
    "    with tf.Session() as sess:\n",
    "        vgg.build_nn(input_)\n",
    "        for index,type in enumerate(os.listdir( 'data/flower_photos')):\n",
    "            path = os.path.join( 'data/flower_photos', type)\n",
    "            if not isdir(path):\n",
    "                continue\n",
    "            print('Loading {} images .......'.format(type))\n",
    "            files = os.listdir(path)\n",
    "            images=[]\n",
    "            for i,file in enumerate(files,1):\n",
    "                file = os.path.join( 'data/flower_photos',type, file)\n",
    "                image = utils.load_image(file)\n",
    "                image = utils.resize_image(image)\n",
    "                images.append(image)\n",
    "                labels.append(index)\n",
    "                if i % batch_size==0 or i==len(files):\n",
    "                    batch = np.asarray(images)\n",
    "                    batch_codes = sess.run(vgg.relu6, feed_dict={input_:batch})\n",
    "                    codes.append(batch_codes)\n",
    "                    print('{} images processed'.format(ii))\n",
    "    codes = np.asarray(codes)\n",
    "    print(codes.shape)\n",
    "    labels = np.array(labels)\n",
    "    print(labels.shape)\n",
    "    codes, labels = utils.shuffle_data(codes, labels)       \n",
    "    labels_onehot = utils.one_hot_encode(labels)            \n",
    "    train_codes, train_labels, valid_codes, valid_labels, test_codes, test_labels = \\\n",
    "        utils.split_data(codes, labels_onehot, train_size=0.8, valid_size=0.1, test_size=0.1)\n",
    "    os.mkdir('data/flower_pre_train_npy')\n",
    "    np.save('data/flower_pre_train_npy/train_codes.npy', train_codes)\n",
    "    np.save('data/flower_pre_train_npy/train_labels.npy', train_labels)\n",
    "    np.save('data/flower_pre_train_npy/valid_codes.npy', valid_codes)\n",
    "    np.save('data/flower_pre_train_npy/valid_labels.npy', valid_labels)\n",
    "    np.save('data/flower_pre_train_npy/test_codes.npy', test_codes)\n",
    "    np.save('data/flower_pre_train_npy/test_labels.npy', test_labels)    "
   ]
  },
  {
   "cell_type": "code",
   "execution_count": null,
   "metadata": {
    "collapsed": false
   },
   "outputs": [],
   "source": [
    "if not isdir('data/flower_pre_train_npy'):\n",
    "    process_data()\n",
    "train_codes = np.load('data/flower_pre_train_npy/train_codes.npy')\n",
    "train_labels = np.load('data/flower_pre_train_npy/train_labels.npy')\n",
    "valid_codes = np.load('data/flower_pre_train_npy/valid_codes.npy')\n",
    "valid_labels = np.load('data/flower_pre_train_npy/valid_labels.npy')\n",
    "print(\"Train codes: {}, labels: {}\".format(train_codes.shape, train_labels.shape))\n",
    "print(\"Valid codes: {}, labels: {}\".format(valid_codes.shape, valid_labels.shape))"
   ]
  },
  {
   "cell_type": "code",
   "execution_count": null,
   "metadata": {
    "collapsed": true
   },
   "outputs": [],
   "source": [
    "inputs_ = tf.placeholder(dtype=tf.float32, shape=[None, codes.shape[1]], name='inputs')\n",
    "labels_ = tf.placeholder(dtype=tf.float32, shape=[None,len(label_dict)], name='labels')"
   ]
  },
  {
   "cell_type": "code",
   "execution_count": null,
   "metadata": {
    "collapsed": true
   },
   "outputs": [],
   "source": [
    "hidden = tf.contrib.layers.fully_connected(inputs_, 256, activation_fn=tf.nn.relu)\n",
    "logits = tf.contrib.layers.fully_connected(hidden, labels_vecs.shape[1], activation_fn=None)\n",
    "cost = tf.reduce_mean(tf.nn.softmax_cross_entropy_with_logits(logits=logits, labels=labels_))\n",
    "prediction = tf.nn.softmax(logits)\n",
    "compare = tf.equal(tf.argmax(prediction,axis=1), tf.argmax(labels_, axis=1))\n",
    "accuracy = tf.reduce_mean(tf.cast(compare, dtype=tf.float32))\n",
    "optimizer = tf.train.AdamOptimizer().minimize(cost)\n",
    "saver = tf.train.Saver()"
   ]
  },
  {
   "cell_type": "code",
   "execution_count": null,
   "metadata": {
    "collapsed": true
   },
   "outputs": [],
   "source": [
    "epoches = 10\n",
    "iteration = 0\n",
    "predict =[]"
   ]
  },
  {
   "cell_type": "code",
   "execution_count": null,
   "metadata": {
    "collapsed": true
   },
   "outputs": [],
   "source": [
    "with tf.Session() as sess:\n",
    "    sess.run(tf.global_variables_initializer())\n",
    "    print('Start training ...... ')\n",
    "    for e in range(epoches):\n",
    "        for batch_codes, batch_labels in utils.get_batches(train_codes, train_labels, n_batches=10):\n",
    "            iteration += 1\n",
    "            loss,  _ = sess.run([cost,  optimizer],\n",
    "                               feed_dict={inputs_:batch_codes, labels_:batch_labels})\n",
    "            print(\"Epoch: {}/{}\".format(e+1, epoches),\n",
    "                  \"Iteration: {}\".format(iteration),\n",
    "                  \"Train loss: {:.5f}\".format(loss))\n",
    "            if iteration%10==0:\n",
    "                val_acc, predict = sess.run([accuracy, prediction], feed_dict={inputs_:valid_codes, labels_:valid_labels})\n",
    "                print(\"-------------------\")\n",
    "                print(\"Epoch: {}/{}\".format(e+1, epoches),\n",
    "                      \"Iteration: {}\".format(iteration),\n",
    "                      \"Validation Acc: {:.4f}\".format(val_acc))\n",
    "                print(\"-------------------\")\n",
    "\n",
    "    saver.save(sess, \"data/flower_pre_train_checkpoints/flowers.ckpt\")"
   ]
  },
  {
   "cell_type": "code",
   "execution_count": null,
   "metadata": {
    "collapsed": true
   },
   "outputs": [],
   "source": [
    "test_codes = np.load('data/flower_pre_train_npy/test_codes.npy')\n",
    "test_labels = np.load('data/flower_pre_train_npy/test_labels.npy')\n",
    "print(\"Test codes: {}, labels: {}\".format(test_codes.shape, test_labels.shape))"
   ]
  },
  {
   "cell_type": "code",
   "execution_count": null,
   "metadata": {
    "collapsed": true
   },
   "outputs": [],
   "source": [
    "with tf.Session() as sess:\n",
    "    print('Restoring parameters ......')\n",
    "    saver.restore(sess, tf.train.latest_checkpoint('data/flower_pre_train_checkpoints'))\n",
    "    predict, acc = sess.run([prediction, accuracy], feed_dict={inputs_:test_codes, labels_:test_labels, keep_prob:1.0})\n",
    "    print(acc)"
   ]
  }
 ],
 "metadata": {
  "anaconda-cloud": {},
  "kernelspec": {
   "display_name": "Python [conda root]",
   "language": "python",
   "name": "conda-root-py"
  },
  "language_info": {
   "codemirror_mode": {
    "name": "ipython",
    "version": 3
   },
   "file_extension": ".py",
   "mimetype": "text/x-python",
   "name": "python",
   "nbconvert_exporter": "python",
   "pygments_lexer": "ipython3",
   "version": "3.5.2"
  }
 },
 "nbformat": 4,
 "nbformat_minor": 1
}
